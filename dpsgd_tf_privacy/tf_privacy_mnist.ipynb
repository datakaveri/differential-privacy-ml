{
  "nbformat": 4,
  "nbformat_minor": 0,
  "metadata": {
    "colab": {
      "provenance": []
    },
    "kernelspec": {
      "name": "python3",
      "display_name": "Python 3"
    },
    "language_info": {
      "name": "python"
    },
    "accelerator": "GPU",
    "gpuClass": "standard"
  },
  "cells": [
    {
      "cell_type": "code",
      "execution_count": null,
      "metadata": {
        "id": "D2KVd8Vvrrv6"
      },
      "outputs": [],
      "source": [
        "# !pip install tensorflow\n",
        "!pip install sklearn\n",
        "!pip install tensorflow-privacy"
      ]
    },
    {
      "cell_type": "code",
      "source": [
        "import tensorflow as tf\n",
        "from tensorflow import keras\n",
        "from keras.models import Sequential\n",
        "from keras.layers import Dense, Input \n",
        "from sklearn.decomposition import PCA\n",
        "from sklearn.preprocessing import MinMaxScaler\n",
        "import tensorflow_privacy\n",
        "from tensorflow_privacy.privacy.analysis import compute_dp_sgd_privacy\n",
        "import numpy as np"
      ],
      "metadata": {
        "id": "_luoP47QuzCg"
      },
      "execution_count": null,
      "outputs": []
    },
    {
      "cell_type": "code",
      "source": [
        "# load and preprocess data\n",
        "\n",
        "train, test = keras.datasets.mnist.load_data()\n",
        "train_data, train_labels = train\n",
        "test_data, test_labels = test\n",
        "\n",
        "train_data = np.array(train_data, dtype=np.float32)/255\n",
        "test_data = np.array(test_data, dtype=np.float32)/255\n",
        "\n",
        "# print(train_data.shape)\n",
        "# print(test_data.shape)\n",
        "\n",
        "# (n_images, x_shape, y_shape, channels) is dim 4, can be reduced to dim 2 by  (n_images, x*y_shape)\n",
        "train_data = train_data.reshape(train_data.shape[0], 28*28)\n",
        "test_data = test_data.reshape(test_data.shape[0], 28*28)\n",
        "\n",
        "train_labels = np.array(train_labels, dtype=np.int32)\n",
        "test_labels = np.array(test_labels, dtype=np.int32)\n",
        "\n",
        "train_labels  = keras.utils.to_categorical(train_labels, num_classes=10)\n",
        "test_labels = keras.utils.to_categorical(test_labels, num_classes=10)\n",
        "\n",
        "assert train_data.min() == 0.\n",
        "assert train_data.max() == 1.\n",
        "assert test_data.min() == 0.\n",
        "assert test_data.max() == 1."
      ],
      "metadata": {
        "id": "KN6cszugx-Iq"
      },
      "execution_count": null,
      "outputs": []
    },
    {
      "cell_type": "code",
      "source": [
        "#pca\n",
        "pca = PCA(n_components=60)\n",
        "train_data = pca.fit_transform(train_data)\n",
        "test_data = pca.transform(test_data)"
      ],
      "metadata": {
        "id": "uJ8wct_z3OtI"
      },
      "execution_count": null,
      "outputs": []
    },
    {
      "cell_type": "code",
      "source": [
        "#hyperparameters\n",
        "epochs = 100\n",
        "batch_size = 600\n",
        "#dp hyperparameters\n",
        "l2_norm_clip = 0.4\n",
        "noise_multiplier = 1.0\n",
        "num_microbatches = 600 #ensure that batch size is an integer multiple of num_microbatches\n",
        "learning_rate = 0.05\n",
        "delta = 1e-5"
      ],
      "metadata": {
        "id": "OYRDPEf-AW3Z"
      },
      "execution_count": null,
      "outputs": []
    },
    {
      "cell_type": "code",
      "source": [
        "#building a model\n",
        "model = keras.Sequential([\n",
        "    keras.layers.Dense(units = 1000,\n",
        "                       activation = 'relu',\n",
        "                       input_shape  = (60,)\n",
        "                      ),\n",
        "    keras.layers.Dense(units = 10, \n",
        "                       activation = 'softmax')\n",
        "])"
      ],
      "metadata": {
        "id": "p-av5TVrBiX1"
      },
      "execution_count": null,
      "outputs": []
    },
    {
      "cell_type": "code",
      "source": [
        "#defining optimizer and loss\n",
        "optimizer = tensorflow_privacy.DPKerasSGDOptimizer(\n",
        "    l2_norm_clip = l2_norm_clip,\n",
        "    noise_multiplier = noise_multiplier,\n",
        "    num_microbatches = num_microbatches,\n",
        "    learning_rate = learning_rate\n",
        ")\n",
        "\n",
        "loss = keras.losses.CategoricalCrossentropy(from_logits=False, reduction=tf.losses.Reduction.NONE)"
      ],
      "metadata": {
        "id": "7TKxcDFoCd4r"
      },
      "execution_count": null,
      "outputs": []
    },
    {
      "cell_type": "code",
      "source": [
        "#compiling the model\n",
        "model.compile(optimizer = optimizer, loss = loss, metrics = [keras.metrics.CategoricalAccuracy()])\n",
        "\n",
        "model.summary()\n",
        "\n",
        "model.fit(train_data, train_labels,\n",
        "          epochs = epochs,\n",
        "          validation_data = (test_data, test_labels),\n",
        "          batch_size = batch_size\n",
        ")"
      ],
      "metadata": {
        "colab": {
          "base_uri": "https://localhost:8080/"
        },
        "id": "pzVch0P0FlRx",
        "outputId": "933c2275-d23e-46a5-b96c-52f271f81215"
      },
      "execution_count": null,
      "outputs": [
        {
          "output_type": "stream",
          "name": "stdout",
          "text": [
            "Model: \"sequential_2\"\n",
            "_________________________________________________________________\n",
            " Layer (type)                Output Shape              Param #   \n",
            "=================================================================\n",
            " dense_4 (Dense)             (None, 1000)              61000     \n",
            "                                                                 \n",
            " dense_5 (Dense)             (None, 10)                10010     \n",
            "                                                                 \n",
            "=================================================================\n",
            "Total params: 71,010\n",
            "Trainable params: 71,010\n",
            "Non-trainable params: 0\n",
            "_________________________________________________________________\n",
            "Epoch 1/100\n",
            "100/100 [==============================] - 22s 207ms/step - loss: 2.1629 - categorical_accuracy: 0.2865 - val_loss: 2.0266 - val_categorical_accuracy: 0.3925\n",
            "Epoch 2/100\n",
            "100/100 [==============================] - 19s 194ms/step - loss: 1.9138 - categorical_accuracy: 0.4676 - val_loss: 1.7884 - val_categorical_accuracy: 0.5355\n",
            "Epoch 3/100\n",
            "100/100 [==============================] - 19s 193ms/step - loss: 1.6963 - categorical_accuracy: 0.5803 - val_loss: 1.5832 - val_categorical_accuracy: 0.6246\n",
            "Epoch 4/100\n",
            "100/100 [==============================] - 22s 222ms/step - loss: 1.5103 - categorical_accuracy: 0.6436 - val_loss: 1.4097 - val_categorical_accuracy: 0.6731\n",
            "Epoch 5/100\n",
            "100/100 [==============================] - 20s 196ms/step - loss: 1.3555 - categorical_accuracy: 0.6810 - val_loss: 1.2667 - val_categorical_accuracy: 0.7032\n",
            "Epoch 6/100\n",
            "100/100 [==============================] - 19s 193ms/step - loss: 1.2275 - categorical_accuracy: 0.7037 - val_loss: 1.1491 - val_categorical_accuracy: 0.7217\n",
            "Epoch 7/100\n",
            "100/100 [==============================] - 21s 206ms/step - loss: 1.1236 - categorical_accuracy: 0.7178 - val_loss: 1.0539 - val_categorical_accuracy: 0.7355\n",
            "Epoch 8/100\n",
            "100/100 [==============================] - 21s 207ms/step - loss: 1.0386 - categorical_accuracy: 0.7287 - val_loss: 0.9751 - val_categorical_accuracy: 0.7440\n",
            "Epoch 9/100\n",
            "100/100 [==============================] - 19s 193ms/step - loss: 0.9663 - categorical_accuracy: 0.7396 - val_loss: 0.9055 - val_categorical_accuracy: 0.7577\n",
            "Epoch 10/100\n",
            "100/100 [==============================] - 20s 198ms/step - loss: 0.9016 - categorical_accuracy: 0.7503 - val_loss: 0.8444 - val_categorical_accuracy: 0.7677\n",
            "Epoch 11/100\n",
            "100/100 [==============================] - 20s 201ms/step - loss: 0.8447 - categorical_accuracy: 0.7605 - val_loss: 0.7907 - val_categorical_accuracy: 0.7751\n",
            "Epoch 12/100\n",
            "100/100 [==============================] - 19s 193ms/step - loss: 0.7950 - categorical_accuracy: 0.7699 - val_loss: 0.7443 - val_categorical_accuracy: 0.7835\n",
            "Epoch 13/100\n",
            "100/100 [==============================] - 20s 198ms/step - loss: 0.7518 - categorical_accuracy: 0.7787 - val_loss: 0.7038 - val_categorical_accuracy: 0.7942\n",
            "Epoch 14/100\n",
            "100/100 [==============================] - 20s 202ms/step - loss: 0.7143 - categorical_accuracy: 0.7862 - val_loss: 0.6683 - val_categorical_accuracy: 0.8029\n",
            "Epoch 15/100\n",
            "100/100 [==============================] - 19s 193ms/step - loss: 0.6816 - categorical_accuracy: 0.7944 - val_loss: 0.6372 - val_categorical_accuracy: 0.8085\n",
            "Epoch 16/100\n",
            "100/100 [==============================] - 20s 199ms/step - loss: 0.6525 - categorical_accuracy: 0.8012 - val_loss: 0.6097 - val_categorical_accuracy: 0.8145\n",
            "Epoch 17/100\n",
            "100/100 [==============================] - 20s 203ms/step - loss: 0.6268 - categorical_accuracy: 0.8070 - val_loss: 0.5853 - val_categorical_accuracy: 0.8195\n",
            "Epoch 18/100\n",
            "100/100 [==============================] - 19s 192ms/step - loss: 0.6041 - categorical_accuracy: 0.8125 - val_loss: 0.5637 - val_categorical_accuracy: 0.8244\n",
            "Epoch 19/100\n",
            "100/100 [==============================] - 19s 194ms/step - loss: 0.5838 - categorical_accuracy: 0.8181 - val_loss: 0.5442 - val_categorical_accuracy: 0.8289\n",
            "Epoch 20/100\n",
            "100/100 [==============================] - 20s 204ms/step - loss: 0.5655 - categorical_accuracy: 0.8227 - val_loss: 0.5266 - val_categorical_accuracy: 0.8334\n",
            "Epoch 21/100\n",
            "100/100 [==============================] - 21s 207ms/step - loss: 0.5491 - categorical_accuracy: 0.8275 - val_loss: 0.5110 - val_categorical_accuracy: 0.8373\n",
            "Epoch 22/100\n",
            "100/100 [==============================] - 20s 195ms/step - loss: 0.5346 - categorical_accuracy: 0.8316 - val_loss: 0.4969 - val_categorical_accuracy: 0.8409\n",
            "Epoch 23/100\n",
            "100/100 [==============================] - 20s 202ms/step - loss: 0.5213 - categorical_accuracy: 0.8352 - val_loss: 0.4841 - val_categorical_accuracy: 0.8452\n",
            "Epoch 24/100\n",
            "100/100 [==============================] - 19s 193ms/step - loss: 0.5091 - categorical_accuracy: 0.8386 - val_loss: 0.4724 - val_categorical_accuracy: 0.8484\n",
            "Epoch 25/100\n",
            "100/100 [==============================] - 19s 194ms/step - loss: 0.4974 - categorical_accuracy: 0.8429 - val_loss: 0.4616 - val_categorical_accuracy: 0.8521\n",
            "Epoch 26/100\n",
            "100/100 [==============================] - 20s 205ms/step - loss: 0.4873 - categorical_accuracy: 0.8458 - val_loss: 0.4516 - val_categorical_accuracy: 0.8561\n",
            "Epoch 27/100\n",
            "100/100 [==============================] - 19s 193ms/step - loss: 0.4779 - categorical_accuracy: 0.8492 - val_loss: 0.4424 - val_categorical_accuracy: 0.8590\n",
            "Epoch 28/100\n",
            "100/100 [==============================] - 19s 193ms/step - loss: 0.4689 - categorical_accuracy: 0.8520 - val_loss: 0.4341 - val_categorical_accuracy: 0.8611\n",
            "Epoch 29/100\n",
            "100/100 [==============================] - 21s 206ms/step - loss: 0.4609 - categorical_accuracy: 0.8547 - val_loss: 0.4266 - val_categorical_accuracy: 0.8636\n",
            "Epoch 30/100\n",
            "100/100 [==============================] - 19s 193ms/step - loss: 0.4537 - categorical_accuracy: 0.8566 - val_loss: 0.4198 - val_categorical_accuracy: 0.8660\n",
            "Epoch 31/100\n",
            "100/100 [==============================] - 19s 193ms/step - loss: 0.4473 - categorical_accuracy: 0.8583 - val_loss: 0.4135 - val_categorical_accuracy: 0.8679\n",
            "Epoch 32/100\n",
            "100/100 [==============================] - 21s 207ms/step - loss: 0.4412 - categorical_accuracy: 0.8606 - val_loss: 0.4080 - val_categorical_accuracy: 0.8698\n",
            "Epoch 33/100\n",
            "100/100 [==============================] - 19s 193ms/step - loss: 0.4358 - categorical_accuracy: 0.8627 - val_loss: 0.4029 - val_categorical_accuracy: 0.8717\n",
            "Epoch 34/100\n",
            "100/100 [==============================] - 21s 209ms/step - loss: 0.4308 - categorical_accuracy: 0.8644 - val_loss: 0.3983 - val_categorical_accuracy: 0.8734\n",
            "Epoch 35/100\n",
            "100/100 [==============================] - 21s 215ms/step - loss: 0.4264 - categorical_accuracy: 0.8657 - val_loss: 0.3940 - val_categorical_accuracy: 0.8748\n",
            "Epoch 36/100\n",
            "100/100 [==============================] - 20s 204ms/step - loss: 0.4223 - categorical_accuracy: 0.8670 - val_loss: 0.3901 - val_categorical_accuracy: 0.8759\n",
            "Epoch 37/100\n",
            "100/100 [==============================] - 20s 203ms/step - loss: 0.4186 - categorical_accuracy: 0.8682 - val_loss: 0.3867 - val_categorical_accuracy: 0.8773\n",
            "Epoch 38/100\n",
            "100/100 [==============================] - 21s 206ms/step - loss: 0.4153 - categorical_accuracy: 0.8698 - val_loss: 0.3835 - val_categorical_accuracy: 0.8779\n",
            "Epoch 39/100\n",
            "100/100 [==============================] - 19s 192ms/step - loss: 0.4124 - categorical_accuracy: 0.8707 - val_loss: 0.3807 - val_categorical_accuracy: 0.8789\n",
            "Epoch 40/100\n",
            "100/100 [==============================] - 20s 199ms/step - loss: 0.4095 - categorical_accuracy: 0.8723 - val_loss: 0.3781 - val_categorical_accuracy: 0.8793\n",
            "Epoch 41/100\n",
            "100/100 [==============================] - 20s 199ms/step - loss: 0.4069 - categorical_accuracy: 0.8733 - val_loss: 0.3756 - val_categorical_accuracy: 0.8806\n",
            "Epoch 42/100\n",
            "100/100 [==============================] - 19s 192ms/step - loss: 0.4044 - categorical_accuracy: 0.8744 - val_loss: 0.3732 - val_categorical_accuracy: 0.8820\n",
            "Epoch 43/100\n",
            "100/100 [==============================] - 20s 204ms/step - loss: 0.4022 - categorical_accuracy: 0.8751 - val_loss: 0.3710 - val_categorical_accuracy: 0.8829\n",
            "Epoch 44/100\n",
            "100/100 [==============================] - 19s 191ms/step - loss: 0.3999 - categorical_accuracy: 0.8761 - val_loss: 0.3688 - val_categorical_accuracy: 0.8836\n",
            "Epoch 45/100\n",
            "100/100 [==============================] - 19s 193ms/step - loss: 0.3978 - categorical_accuracy: 0.8769 - val_loss: 0.3668 - val_categorical_accuracy: 0.8843\n",
            "Epoch 46/100\n",
            "100/100 [==============================] - 21s 210ms/step - loss: 0.3958 - categorical_accuracy: 0.8779 - val_loss: 0.3649 - val_categorical_accuracy: 0.8856\n",
            "Epoch 47/100\n",
            "100/100 [==============================] - 19s 190ms/step - loss: 0.3940 - categorical_accuracy: 0.8789 - val_loss: 0.3632 - val_categorical_accuracy: 0.8863\n",
            "Epoch 48/100\n",
            "100/100 [==============================] - 20s 201ms/step - loss: 0.3922 - categorical_accuracy: 0.8796 - val_loss: 0.3614 - val_categorical_accuracy: 0.8875\n",
            "Epoch 49/100\n",
            "100/100 [==============================] - 19s 191ms/step - loss: 0.3905 - categorical_accuracy: 0.8803 - val_loss: 0.3598 - val_categorical_accuracy: 0.8878\n",
            "Epoch 50/100\n",
            "100/100 [==============================] - 19s 190ms/step - loss: 0.3889 - categorical_accuracy: 0.8811 - val_loss: 0.3583 - val_categorical_accuracy: 0.8887\n",
            "Epoch 51/100\n",
            "100/100 [==============================] - 20s 202ms/step - loss: 0.3874 - categorical_accuracy: 0.8819 - val_loss: 0.3568 - val_categorical_accuracy: 0.8895\n",
            "Epoch 52/100\n",
            "100/100 [==============================] - 19s 191ms/step - loss: 0.3859 - categorical_accuracy: 0.8826 - val_loss: 0.3553 - val_categorical_accuracy: 0.8901\n",
            "Epoch 53/100\n",
            "100/100 [==============================] - 20s 197ms/step - loss: 0.3846 - categorical_accuracy: 0.8834 - val_loss: 0.3540 - val_categorical_accuracy: 0.8906\n",
            "Epoch 54/100\n",
            "100/100 [==============================] - 20s 195ms/step - loss: 0.3832 - categorical_accuracy: 0.8839 - val_loss: 0.3527 - val_categorical_accuracy: 0.8915\n",
            "Epoch 55/100\n",
            "100/100 [==============================] - 19s 190ms/step - loss: 0.3819 - categorical_accuracy: 0.8845 - val_loss: 0.3515 - val_categorical_accuracy: 0.8920\n",
            "Epoch 56/100\n",
            "100/100 [==============================] - 20s 201ms/step - loss: 0.3807 - categorical_accuracy: 0.8849 - val_loss: 0.3504 - val_categorical_accuracy: 0.8928\n",
            "Epoch 57/100\n",
            "100/100 [==============================] - 19s 191ms/step - loss: 0.3795 - categorical_accuracy: 0.8856 - val_loss: 0.3492 - val_categorical_accuracy: 0.8933\n",
            "Epoch 58/100\n",
            "100/100 [==============================] - 20s 203ms/step - loss: 0.3783 - categorical_accuracy: 0.8864 - val_loss: 0.3481 - val_categorical_accuracy: 0.8941\n",
            "Epoch 59/100\n",
            "100/100 [==============================] - 20s 198ms/step - loss: 0.3773 - categorical_accuracy: 0.8868 - val_loss: 0.3470 - val_categorical_accuracy: 0.8948\n",
            "Epoch 60/100\n",
            "100/100 [==============================] - 19s 190ms/step - loss: 0.3762 - categorical_accuracy: 0.8873 - val_loss: 0.3460 - val_categorical_accuracy: 0.8958\n",
            "Epoch 61/100\n",
            "100/100 [==============================] - 20s 199ms/step - loss: 0.3752 - categorical_accuracy: 0.8878 - val_loss: 0.3450 - val_categorical_accuracy: 0.8963\n",
            "Epoch 62/100\n",
            "100/100 [==============================] - 19s 194ms/step - loss: 0.3741 - categorical_accuracy: 0.8885 - val_loss: 0.3439 - val_categorical_accuracy: 0.8969\n",
            "Epoch 63/100\n",
            "100/100 [==============================] - 19s 190ms/step - loss: 0.3731 - categorical_accuracy: 0.8892 - val_loss: 0.3431 - val_categorical_accuracy: 0.8969\n",
            "Epoch 64/100\n",
            "100/100 [==============================] - 20s 202ms/step - loss: 0.3722 - categorical_accuracy: 0.8897 - val_loss: 0.3421 - val_categorical_accuracy: 0.8979\n",
            "Epoch 65/100\n",
            "100/100 [==============================] - 19s 191ms/step - loss: 0.3713 - categorical_accuracy: 0.8902 - val_loss: 0.3413 - val_categorical_accuracy: 0.8987\n",
            "Epoch 66/100\n",
            "100/100 [==============================] - 19s 193ms/step - loss: 0.3704 - categorical_accuracy: 0.8907 - val_loss: 0.3404 - val_categorical_accuracy: 0.8994\n",
            "Epoch 67/100\n",
            "100/100 [==============================] - 20s 201ms/step - loss: 0.3696 - categorical_accuracy: 0.8912 - val_loss: 0.3396 - val_categorical_accuracy: 0.8996\n",
            "Epoch 68/100\n",
            "100/100 [==============================] - 19s 191ms/step - loss: 0.3687 - categorical_accuracy: 0.8916 - val_loss: 0.3388 - val_categorical_accuracy: 0.9005\n",
            "Epoch 69/100\n",
            "100/100 [==============================] - 20s 201ms/step - loss: 0.3679 - categorical_accuracy: 0.8921 - val_loss: 0.3380 - val_categorical_accuracy: 0.9008\n",
            "Epoch 70/100\n",
            "100/100 [==============================] - 20s 195ms/step - loss: 0.3671 - categorical_accuracy: 0.8924 - val_loss: 0.3373 - val_categorical_accuracy: 0.9009\n",
            "Epoch 71/100\n",
            "100/100 [==============================] - 20s 204ms/step - loss: 0.3663 - categorical_accuracy: 0.8929 - val_loss: 0.3365 - val_categorical_accuracy: 0.9018\n",
            "Epoch 72/100\n",
            "100/100 [==============================] - 20s 203ms/step - loss: 0.3656 - categorical_accuracy: 0.8935 - val_loss: 0.3358 - val_categorical_accuracy: 0.9019\n",
            "Epoch 73/100\n",
            "100/100 [==============================] - 19s 194ms/step - loss: 0.3649 - categorical_accuracy: 0.8940 - val_loss: 0.3350 - val_categorical_accuracy: 0.9024\n",
            "Epoch 74/100\n",
            "100/100 [==============================] - 20s 200ms/step - loss: 0.3642 - categorical_accuracy: 0.8945 - val_loss: 0.3343 - val_categorical_accuracy: 0.9028\n",
            "Epoch 75/100\n",
            "100/100 [==============================] - 20s 196ms/step - loss: 0.3635 - categorical_accuracy: 0.8949 - val_loss: 0.3336 - val_categorical_accuracy: 0.9029\n",
            "Epoch 76/100\n",
            "100/100 [==============================] - 19s 192ms/step - loss: 0.3628 - categorical_accuracy: 0.8953 - val_loss: 0.3330 - val_categorical_accuracy: 0.9032\n",
            "Epoch 77/100\n",
            "100/100 [==============================] - 20s 203ms/step - loss: 0.3621 - categorical_accuracy: 0.8957 - val_loss: 0.3322 - val_categorical_accuracy: 0.9037\n",
            "Epoch 78/100\n",
            "100/100 [==============================] - 19s 192ms/step - loss: 0.3614 - categorical_accuracy: 0.8962 - val_loss: 0.3316 - val_categorical_accuracy: 0.9040\n",
            "Epoch 79/100\n",
            "100/100 [==============================] - 19s 195ms/step - loss: 0.3608 - categorical_accuracy: 0.8966 - val_loss: 0.3310 - val_categorical_accuracy: 0.9043\n",
            "Epoch 80/100\n",
            "100/100 [==============================] - 20s 201ms/step - loss: 0.3602 - categorical_accuracy: 0.8970 - val_loss: 0.3305 - val_categorical_accuracy: 0.9044\n",
            "Epoch 81/100\n",
            "100/100 [==============================] - 19s 192ms/step - loss: 0.3596 - categorical_accuracy: 0.8973 - val_loss: 0.3299 - val_categorical_accuracy: 0.9048\n",
            "Epoch 82/100\n",
            "100/100 [==============================] - 20s 202ms/step - loss: 0.3590 - categorical_accuracy: 0.8976 - val_loss: 0.3294 - val_categorical_accuracy: 0.9053\n",
            "Epoch 83/100\n",
            "100/100 [==============================] - 20s 204ms/step - loss: 0.3585 - categorical_accuracy: 0.8979 - val_loss: 0.3288 - val_categorical_accuracy: 0.9056\n",
            "Epoch 84/100\n",
            "100/100 [==============================] - 19s 193ms/step - loss: 0.3578 - categorical_accuracy: 0.8981 - val_loss: 0.3281 - val_categorical_accuracy: 0.9058\n",
            "Epoch 85/100\n",
            "100/100 [==============================] - 20s 201ms/step - loss: 0.3572 - categorical_accuracy: 0.8984 - val_loss: 0.3275 - val_categorical_accuracy: 0.9061\n",
            "Epoch 86/100\n",
            "100/100 [==============================] - 19s 192ms/step - loss: 0.3566 - categorical_accuracy: 0.8987 - val_loss: 0.3270 - val_categorical_accuracy: 0.9066\n",
            "Epoch 87/100\n",
            "100/100 [==============================] - 20s 199ms/step - loss: 0.3560 - categorical_accuracy: 0.8989 - val_loss: 0.3265 - val_categorical_accuracy: 0.9067\n",
            "Epoch 88/100\n",
            "100/100 [==============================] - 20s 196ms/step - loss: 0.3554 - categorical_accuracy: 0.8991 - val_loss: 0.3259 - val_categorical_accuracy: 0.9071\n",
            "Epoch 89/100\n",
            "100/100 [==============================] - 19s 192ms/step - loss: 0.3549 - categorical_accuracy: 0.8995 - val_loss: 0.3253 - val_categorical_accuracy: 0.9072\n",
            "Epoch 90/100\n",
            "100/100 [==============================] - 20s 203ms/step - loss: 0.3543 - categorical_accuracy: 0.8997 - val_loss: 0.3248 - val_categorical_accuracy: 0.9076\n",
            "Epoch 91/100\n",
            "100/100 [==============================] - 19s 191ms/step - loss: 0.3538 - categorical_accuracy: 0.9000 - val_loss: 0.3243 - val_categorical_accuracy: 0.9077\n",
            "Epoch 92/100\n",
            "100/100 [==============================] - 19s 192ms/step - loss: 0.3533 - categorical_accuracy: 0.9003 - val_loss: 0.3237 - val_categorical_accuracy: 0.9080\n",
            "Epoch 93/100\n",
            "100/100 [==============================] - 20s 202ms/step - loss: 0.3527 - categorical_accuracy: 0.9006 - val_loss: 0.3233 - val_categorical_accuracy: 0.9081\n",
            "Epoch 94/100\n",
            "100/100 [==============================] - 20s 199ms/step - loss: 0.3522 - categorical_accuracy: 0.9009 - val_loss: 0.3228 - val_categorical_accuracy: 0.9085\n",
            "Epoch 95/100\n",
            "100/100 [==============================] - 21s 207ms/step - loss: 0.3517 - categorical_accuracy: 0.9012 - val_loss: 0.3223 - val_categorical_accuracy: 0.9088\n",
            "Epoch 96/100\n",
            "100/100 [==============================] - 19s 192ms/step - loss: 0.3512 - categorical_accuracy: 0.9014 - val_loss: 0.3219 - val_categorical_accuracy: 0.9091\n",
            "Epoch 97/100\n",
            "100/100 [==============================] - 19s 191ms/step - loss: 0.3507 - categorical_accuracy: 0.9017 - val_loss: 0.3214 - val_categorical_accuracy: 0.9092\n",
            "Epoch 98/100\n",
            "100/100 [==============================] - 20s 205ms/step - loss: 0.3502 - categorical_accuracy: 0.9021 - val_loss: 0.3209 - val_categorical_accuracy: 0.9092\n",
            "Epoch 99/100\n",
            "100/100 [==============================] - 19s 193ms/step - loss: 0.3497 - categorical_accuracy: 0.9024 - val_loss: 0.3204 - val_categorical_accuracy: 0.9095\n",
            "Epoch 100/100\n",
            "100/100 [==============================] - 20s 195ms/step - loss: 0.3492 - categorical_accuracy: 0.9025 - val_loss: 0.3200 - val_categorical_accuracy: 0.9096\n"
          ]
        },
        {
          "output_type": "execute_result",
          "data": {
            "text/plain": [
              "<keras.callbacks.History at 0x7f4e4e51bdf0>"
            ]
          },
          "metadata": {},
          "execution_count": 22
        }
      ]
    },
    {
      "cell_type": "code",
      "source": [
        "#compute privacy loss\n",
        "compute_dp_sgd_privacy.compute_dp_sgd_privacy(n = train_data.shape[0],\n",
        "                                              batch_size = batch_size,\n",
        "                                              noise_multiplier = noise_multiplier,\n",
        "                                              epochs = epochs,\n",
        "                                              delta = delta\n",
        ")"
      ],
      "metadata": {
        "colab": {
          "base_uri": "https://localhost:8080/"
        },
        "id": "18N0RFQGGQn0",
        "outputId": "10c6094e-f7ec-4710-a383-14b130fc1952"
      },
      "execution_count": null,
      "outputs": [
        {
          "output_type": "stream",
          "name": "stdout",
          "text": [
            "DP-SGD with sampling rate = 1% and noise_multiplier = 1.0 iterated over 10000 steps satisfies differential privacy with eps = 6.72 and delta = 1e-05.\n",
            "The optimal RDP order is 4.0.\n"
          ]
        },
        {
          "output_type": "execute_result",
          "data": {
            "text/plain": [
              "(6.719402117939218, 4.0)"
            ]
          },
          "metadata": {},
          "execution_count": 23
        }
      ]
    },
    {
      "cell_type": "code",
      "source": [
        "#baseline code\n",
        "\n",
        "# mnist = keras.datasets.mnist\n",
        "# (X_train, y_train), (X_test, y_test) = mnist.load_data()\n",
        "# X_train = X_train.reshape(60000, 784)\n",
        "# X_test = X_test.reshape(10000, 784)\n",
        "\n",
        "# pca = PCA(n_components=60)\n",
        "# X_train_pca = pca.fit_transform(X_train)\n",
        "# X_test_pca = pca.transform(X_test)\n",
        "\n",
        "# minmax = MinMaxScaler()\n",
        "# X_train_pca = minmax.fit_transform(X_train_pca)\n",
        "# X_test_pca = minmax.transform(X_test_pca)\n",
        "\n",
        "\n",
        "# model = Sequential()\n",
        "# model.add(Dense(1000, activation='relu', input_shape=(60,)))\n",
        "# model.add(Dense(10, activation='softmax'))\n",
        "\n",
        "# model.compile(optimizer='adam', loss='sparse_categorical_crossentropy', metrics=['accuracy'])\n",
        "\n",
        "# model.summary()\n",
        "\n",
        "# model.fit(X_train_pca, y_train, epochs=100, batch_size=32, validation_data=(X_test_pca, y_test))"
      ],
      "metadata": {
        "id": "sO3cSkM3sFS-"
      },
      "execution_count": null,
      "outputs": []
    },
    {
      "cell_type": "code",
      "source": [],
      "metadata": {
        "id": "PXL0dREDsdNY"
      },
      "execution_count": null,
      "outputs": []
    }
  ]
}